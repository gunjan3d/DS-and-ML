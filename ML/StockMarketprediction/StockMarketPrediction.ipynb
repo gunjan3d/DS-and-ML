{
 "cells": [
  {
   "cell_type": "code",
   "execution_count": 4,
   "id": "565feb64",
   "metadata": {},
   "outputs": [],
   "source": [
    "import pandas as pd\n",
    "import numpy as np\n",
    "import matplotlib.pyplot as plt\n",
    "import sklearn as skl\n",
    "import os"
   ]
  },
  {
   "cell_type": "code",
   "execution_count": 5,
   "id": "1d7d8351",
   "metadata": {},
   "outputs": [
    {
     "data": {
      "text/plain": [
       "'C:\\\\Users\\\\gunja\\\\Documents\\\\DS and ML\\\\ML\\\\StockMarketprediction'"
      ]
     },
     "execution_count": 5,
     "metadata": {},
     "output_type": "execute_result"
    }
   ],
   "source": [
    "os.getcwd()"
   ]
  },
  {
   "cell_type": "code",
   "execution_count": 6,
   "id": "a4209d3f",
   "metadata": {},
   "outputs": [],
   "source": [
    "import glob\n",
    "import os\n",
    "\n",
    "csv_path = 'C:\\\\Users\\\\gunja\\\\Documents\\\\DS and ML\\\\ML\\\\StockMarketprediction\\\\'\n",
    "csv_files = glob.glob(os.path.join(csv_path, \"*.csv\"))\n",
    "dfs = []\n",
    "\n",
    "for csv in csv_files:\n",
    "    df = pd.read_csv(csv)\n",
    "    dfs.append(df)\n",
    "\n",
    "combined_df = pd.concat(dfs, ignore_index=True)"
   ]
  },
  {
   "cell_type": "code",
   "execution_count": 8,
   "id": "6b8623a7",
   "metadata": {},
   "outputs": [],
   "source": [
    "combined_df.to_csv('2021to2023.csv',index=False)"
   ]
  },
  {
   "cell_type": "code",
   "execution_count": 9,
   "id": "98b8aa0c",
   "metadata": {},
   "outputs": [
    {
     "data": {
      "text/html": [
       "<div>\n",
       "<style scoped>\n",
       "    .dataframe tbody tr th:only-of-type {\n",
       "        vertical-align: middle;\n",
       "    }\n",
       "\n",
       "    .dataframe tbody tr th {\n",
       "        vertical-align: top;\n",
       "    }\n",
       "\n",
       "    .dataframe thead th {\n",
       "        text-align: right;\n",
       "    }\n",
       "</style>\n",
       "<table border=\"1\" class=\"dataframe\">\n",
       "  <thead>\n",
       "    <tr style=\"text-align: right;\">\n",
       "      <th></th>\n",
       "      <th>Date</th>\n",
       "      <th>Open</th>\n",
       "      <th>High</th>\n",
       "      <th>Low</th>\n",
       "      <th>Close</th>\n",
       "      <th>Shares Traded</th>\n",
       "      <th>Turnover (₹ Cr)</th>\n",
       "    </tr>\n",
       "  </thead>\n",
       "  <tbody>\n",
       "    <tr>\n",
       "      <th>0</th>\n",
       "      <td>01-JAN-2021</td>\n",
       "      <td>13996.10</td>\n",
       "      <td>14049.85</td>\n",
       "      <td>13991.35</td>\n",
       "      <td>14018.50</td>\n",
       "      <td>258090905</td>\n",
       "      <td>15873.75</td>\n",
       "    </tr>\n",
       "    <tr>\n",
       "      <th>1</th>\n",
       "      <td>04-JAN-2021</td>\n",
       "      <td>14104.35</td>\n",
       "      <td>14147.95</td>\n",
       "      <td>13953.75</td>\n",
       "      <td>14132.90</td>\n",
       "      <td>494999295</td>\n",
       "      <td>28705.09</td>\n",
       "    </tr>\n",
       "    <tr>\n",
       "      <th>2</th>\n",
       "      <td>05-JAN-2021</td>\n",
       "      <td>14075.15</td>\n",
       "      <td>14215.60</td>\n",
       "      <td>14048.15</td>\n",
       "      <td>14199.50</td>\n",
       "      <td>492475349</td>\n",
       "      <td>30872.87</td>\n",
       "    </tr>\n",
       "    <tr>\n",
       "      <th>3</th>\n",
       "      <td>06-JAN-2021</td>\n",
       "      <td>14240.95</td>\n",
       "      <td>14244.15</td>\n",
       "      <td>14039.90</td>\n",
       "      <td>14146.25</td>\n",
       "      <td>632323316</td>\n",
       "      <td>34615.55</td>\n",
       "    </tr>\n",
       "    <tr>\n",
       "      <th>4</th>\n",
       "      <td>07-JAN-2021</td>\n",
       "      <td>14253.75</td>\n",
       "      <td>14256.25</td>\n",
       "      <td>14123.10</td>\n",
       "      <td>14137.35</td>\n",
       "      <td>559173512</td>\n",
       "      <td>33446.47</td>\n",
       "    </tr>\n",
       "  </tbody>\n",
       "</table>\n",
       "</div>"
      ],
      "text/plain": [
       "         Date      Open      High       Low     Close   Shares Traded   \\\n",
       "0  01-JAN-2021  13996.10  14049.85  13991.35  14018.50       258090905   \n",
       "1  04-JAN-2021  14104.35  14147.95  13953.75  14132.90       494999295   \n",
       "2  05-JAN-2021  14075.15  14215.60  14048.15  14199.50       492475349   \n",
       "3  06-JAN-2021  14240.95  14244.15  14039.90  14146.25       632323316   \n",
       "4  07-JAN-2021  14253.75  14256.25  14123.10  14137.35       559173512   \n",
       "\n",
       "   Turnover (₹ Cr)  \n",
       "0         15873.75  \n",
       "1         28705.09  \n",
       "2         30872.87  \n",
       "3         34615.55  \n",
       "4         33446.47  "
      ]
     },
     "execution_count": 9,
     "metadata": {},
     "output_type": "execute_result"
    }
   ],
   "source": [
    "combined_df.head()"
   ]
  },
  {
   "cell_type": "code",
   "execution_count": 10,
   "id": "5ff2564d",
   "metadata": {},
   "outputs": [
    {
     "data": {
      "text/plain": [
       "(742, 7)"
      ]
     },
     "execution_count": 10,
     "metadata": {},
     "output_type": "execute_result"
    }
   ],
   "source": [
    "combined_df.shape"
   ]
  },
  {
   "cell_type": "code",
   "execution_count": 11,
   "id": "677cdb20",
   "metadata": {},
   "outputs": [
    {
     "data": {
      "text/plain": [
       "5194"
      ]
     },
     "execution_count": 11,
     "metadata": {},
     "output_type": "execute_result"
    }
   ],
   "source": [
    "combined_df.size"
   ]
  },
  {
   "cell_type": "code",
   "execution_count": 13,
   "id": "acaaab95",
   "metadata": {},
   "outputs": [
    {
     "data": {
      "text/html": [
       "<div>\n",
       "<style scoped>\n",
       "    .dataframe tbody tr th:only-of-type {\n",
       "        vertical-align: middle;\n",
       "    }\n",
       "\n",
       "    .dataframe tbody tr th {\n",
       "        vertical-align: top;\n",
       "    }\n",
       "\n",
       "    .dataframe thead th {\n",
       "        text-align: right;\n",
       "    }\n",
       "</style>\n",
       "<table border=\"1\" class=\"dataframe\">\n",
       "  <thead>\n",
       "    <tr style=\"text-align: right;\">\n",
       "      <th></th>\n",
       "      <th>Open</th>\n",
       "      <th>High</th>\n",
       "      <th>Low</th>\n",
       "      <th>Close</th>\n",
       "      <th>Shares Traded</th>\n",
       "      <th>Turnover (₹ Cr)</th>\n",
       "    </tr>\n",
       "  </thead>\n",
       "  <tbody>\n",
       "    <tr>\n",
       "      <th>count</th>\n",
       "      <td>742.000000</td>\n",
       "      <td>742.000000</td>\n",
       "      <td>742.000000</td>\n",
       "      <td>742.000000</td>\n",
       "      <td>7.420000e+02</td>\n",
       "      <td>742.000000</td>\n",
       "    </tr>\n",
       "    <tr>\n",
       "      <th>mean</th>\n",
       "      <td>17496.047507</td>\n",
       "      <td>17572.918935</td>\n",
       "      <td>17391.150337</td>\n",
       "      <td>17485.872574</td>\n",
       "      <td>3.240153e+08</td>\n",
       "      <td>25056.554919</td>\n",
       "    </tr>\n",
       "    <tr>\n",
       "      <th>std</th>\n",
       "      <td>1737.586945</td>\n",
       "      <td>1729.727602</td>\n",
       "      <td>1746.726167</td>\n",
       "      <td>1738.340876</td>\n",
       "      <td>1.393699e+08</td>\n",
       "      <td>7912.964712</td>\n",
       "    </tr>\n",
       "    <tr>\n",
       "      <th>min</th>\n",
       "      <td>13758.600000</td>\n",
       "      <td>13898.250000</td>\n",
       "      <td>13596.750000</td>\n",
       "      <td>13634.600000</td>\n",
       "      <td>3.731190e+07</td>\n",
       "      <td>2482.270000</td>\n",
       "    </tr>\n",
       "    <tr>\n",
       "      <th>25%</th>\n",
       "      <td>16252.637500</td>\n",
       "      <td>16327.712500</td>\n",
       "      <td>16159.062500</td>\n",
       "      <td>16246.000000</td>\n",
       "      <td>2.362690e+08</td>\n",
       "      <td>19817.165000</td>\n",
       "    </tr>\n",
       "    <tr>\n",
       "      <th>50%</th>\n",
       "      <td>17539.925000</td>\n",
       "      <td>17632.125000</td>\n",
       "      <td>17431.875000</td>\n",
       "      <td>17537.850000</td>\n",
       "      <td>2.773482e+08</td>\n",
       "      <td>23149.250000</td>\n",
       "    </tr>\n",
       "    <tr>\n",
       "      <th>75%</th>\n",
       "      <td>18423.450000</td>\n",
       "      <td>18499.750000</td>\n",
       "      <td>18330.912500</td>\n",
       "      <td>18417.787500</td>\n",
       "      <td>3.676482e+08</td>\n",
       "      <td>28621.157500</td>\n",
       "    </tr>\n",
       "    <tr>\n",
       "      <th>max</th>\n",
       "      <td>22080.500000</td>\n",
       "      <td>22124.150000</td>\n",
       "      <td>21969.800000</td>\n",
       "      <td>22097.450000</td>\n",
       "      <td>1.103645e+09</td>\n",
       "      <td>70755.080000</td>\n",
       "    </tr>\n",
       "  </tbody>\n",
       "</table>\n",
       "</div>"
      ],
      "text/plain": [
       "              Open          High           Low         Close   Shares Traded   \\\n",
       "count    742.000000    742.000000    742.000000    742.000000    7.420000e+02   \n",
       "mean   17496.047507  17572.918935  17391.150337  17485.872574    3.240153e+08   \n",
       "std     1737.586945   1729.727602   1746.726167   1738.340876    1.393699e+08   \n",
       "min    13758.600000  13898.250000  13596.750000  13634.600000    3.731190e+07   \n",
       "25%    16252.637500  16327.712500  16159.062500  16246.000000    2.362690e+08   \n",
       "50%    17539.925000  17632.125000  17431.875000  17537.850000    2.773482e+08   \n",
       "75%    18423.450000  18499.750000  18330.912500  18417.787500    3.676482e+08   \n",
       "max    22080.500000  22124.150000  21969.800000  22097.450000    1.103645e+09   \n",
       "\n",
       "       Turnover (₹ Cr)  \n",
       "count       742.000000  \n",
       "mean      25056.554919  \n",
       "std        7912.964712  \n",
       "min        2482.270000  \n",
       "25%       19817.165000  \n",
       "50%       23149.250000  \n",
       "75%       28621.157500  \n",
       "max       70755.080000  "
      ]
     },
     "execution_count": 13,
     "metadata": {},
     "output_type": "execute_result"
    }
   ],
   "source": [
    "combined_df.describe()"
   ]
  },
  {
   "cell_type": "code",
   "execution_count": null,
   "id": "a105dc57",
   "metadata": {},
   "outputs": [],
   "source": []
  },
  {
   "cell_type": "code",
   "execution_count": null,
   "id": "12e1c260",
   "metadata": {},
   "outputs": [],
   "source": []
  },
  {
   "cell_type": "code",
   "execution_count": null,
   "id": "3b3c78be",
   "metadata": {},
   "outputs": [],
   "source": []
  },
  {
   "cell_type": "code",
   "execution_count": null,
   "id": "56cf0a6e",
   "metadata": {},
   "outputs": [],
   "source": []
  },
  {
   "cell_type": "code",
   "execution_count": null,
   "id": "1792cd7b",
   "metadata": {},
   "outputs": [],
   "source": []
  },
  {
   "cell_type": "code",
   "execution_count": null,
   "id": "c0a53f74",
   "metadata": {},
   "outputs": [],
   "source": []
  },
  {
   "cell_type": "code",
   "execution_count": null,
   "id": "910e8b45",
   "metadata": {},
   "outputs": [],
   "source": []
  },
  {
   "cell_type": "code",
   "execution_count": null,
   "id": "44e27118",
   "metadata": {},
   "outputs": [],
   "source": []
  },
  {
   "cell_type": "code",
   "execution_count": null,
   "id": "9925011b",
   "metadata": {},
   "outputs": [],
   "source": []
  },
  {
   "cell_type": "code",
   "execution_count": null,
   "id": "6e130361",
   "metadata": {},
   "outputs": [],
   "source": []
  },
  {
   "cell_type": "code",
   "execution_count": null,
   "id": "2c8a8d68",
   "metadata": {},
   "outputs": [],
   "source": []
  },
  {
   "cell_type": "code",
   "execution_count": null,
   "id": "de28dc16",
   "metadata": {},
   "outputs": [],
   "source": []
  },
  {
   "cell_type": "code",
   "execution_count": null,
   "id": "d58ba84a",
   "metadata": {},
   "outputs": [],
   "source": []
  },
  {
   "cell_type": "code",
   "execution_count": null,
   "id": "76e2c77a",
   "metadata": {},
   "outputs": [],
   "source": []
  },
  {
   "cell_type": "code",
   "execution_count": null,
   "id": "8998dbde",
   "metadata": {},
   "outputs": [],
   "source": []
  },
  {
   "cell_type": "code",
   "execution_count": null,
   "id": "38eaf4e1",
   "metadata": {},
   "outputs": [],
   "source": []
  },
  {
   "cell_type": "code",
   "execution_count": null,
   "id": "072fbb2d",
   "metadata": {},
   "outputs": [],
   "source": []
  },
  {
   "cell_type": "code",
   "execution_count": null,
   "id": "8609800b",
   "metadata": {},
   "outputs": [],
   "source": []
  },
  {
   "cell_type": "code",
   "execution_count": null,
   "id": "4adcfb1c",
   "metadata": {},
   "outputs": [],
   "source": []
  },
  {
   "cell_type": "code",
   "execution_count": null,
   "id": "a960f6fe",
   "metadata": {},
   "outputs": [],
   "source": []
  },
  {
   "cell_type": "code",
   "execution_count": null,
   "id": "771a4d1e",
   "metadata": {},
   "outputs": [],
   "source": []
  },
  {
   "cell_type": "code",
   "execution_count": null,
   "id": "1bdb2ec9",
   "metadata": {},
   "outputs": [],
   "source": []
  },
  {
   "cell_type": "code",
   "execution_count": null,
   "id": "9703094f",
   "metadata": {},
   "outputs": [],
   "source": []
  },
  {
   "cell_type": "code",
   "execution_count": null,
   "id": "e4360608",
   "metadata": {},
   "outputs": [],
   "source": []
  },
  {
   "cell_type": "code",
   "execution_count": null,
   "id": "09186ce5",
   "metadata": {},
   "outputs": [],
   "source": []
  },
  {
   "cell_type": "code",
   "execution_count": null,
   "id": "8a4e2b83",
   "metadata": {},
   "outputs": [],
   "source": []
  },
  {
   "cell_type": "code",
   "execution_count": null,
   "id": "91eac65c",
   "metadata": {},
   "outputs": [],
   "source": []
  },
  {
   "cell_type": "code",
   "execution_count": null,
   "id": "6c855ba5",
   "metadata": {},
   "outputs": [],
   "source": []
  },
  {
   "cell_type": "code",
   "execution_count": null,
   "id": "0835b046",
   "metadata": {},
   "outputs": [],
   "source": []
  },
  {
   "cell_type": "code",
   "execution_count": null,
   "id": "60fdc90d",
   "metadata": {},
   "outputs": [],
   "source": []
  },
  {
   "cell_type": "code",
   "execution_count": null,
   "id": "49c7d485",
   "metadata": {},
   "outputs": [],
   "source": []
  },
  {
   "cell_type": "code",
   "execution_count": null,
   "id": "45b15b72",
   "metadata": {},
   "outputs": [],
   "source": []
  },
  {
   "cell_type": "code",
   "execution_count": null,
   "id": "ea475466",
   "metadata": {},
   "outputs": [],
   "source": []
  },
  {
   "cell_type": "code",
   "execution_count": null,
   "id": "1ae0ccf8",
   "metadata": {},
   "outputs": [],
   "source": []
  },
  {
   "cell_type": "code",
   "execution_count": null,
   "id": "7310976c",
   "metadata": {},
   "outputs": [],
   "source": []
  }
 ],
 "metadata": {
  "kernelspec": {
   "display_name": "Python 3 (ipykernel)",
   "language": "python",
   "name": "python3"
  },
  "language_info": {
   "codemirror_mode": {
    "name": "ipython",
    "version": 3
   },
   "file_extension": ".py",
   "mimetype": "text/x-python",
   "name": "python",
   "nbconvert_exporter": "python",
   "pygments_lexer": "ipython3",
   "version": "3.11.5"
  }
 },
 "nbformat": 4,
 "nbformat_minor": 5
}
